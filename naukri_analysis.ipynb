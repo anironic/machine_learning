{
 "cells": [
  {
   "cell_type": "code",
   "execution_count": 8,
   "metadata": {},
   "outputs": [],
   "source": [
    "import pandas as pd\n",
    "import numpy as np\n",
    "import requests\n",
    "DATA = './data'\n",
    "import zipfile36 as zipfle"
   ]
  },
  {
   "cell_type": "markdown",
   "metadata": {},
   "source": [
    "### Download data & unzip the data"
   ]
  },
  {
   "cell_type": "code",
   "execution_count": 12,
   "metadata": {},
   "outputs": [],
   "source": [
    "file_name=f'{DATA}/717159_1248718_bundle_archive.zip'\n",
    "z = zipfle.ZipFile(file_name)\n",
    "z.extractall(path=f'{DATA}/')\n",
    "DATA_FILE = f'{DATA}/home/sdf/marketing_sample_for_naukri_com-jobs__20190701_20190830__30k_data.csv'"
   ]
  },
  {
   "cell_type": "markdown",
   "metadata": {},
   "source": [
    "### view the data"
   ]
  },
  {
   "cell_type": "code",
   "execution_count": 14,
   "metadata": {},
   "outputs": [],
   "source": [
    "raw_df = pd.read_csv(DATA_FILE)"
   ]
  },
  {
   "cell_type": "code",
   "execution_count": 44,
   "metadata": {},
   "outputs": [],
   "source": [
    "p_df = raw_df.copy()"
   ]
  },
  {
   "cell_type": "code",
   "execution_count": 46,
   "metadata": {},
   "outputs": [
    {
     "name": "stderr",
     "output_type": "stream",
     "text": [
      "<ipython-input-46-f35c076cc0b8>:1: SettingWithCopyWarning: \n",
      "A value is trying to be set on a copy of a slice from a DataFrame.\n",
      "Try using .loc[row_indexer,col_indexer] = value instead\n",
      "\n",
      "See the caveats in the documentation: https://pandas.pydata.org/pandas-docs/stable/user_guide/indexing.html#returning-a-view-versus-a-copy\n",
      "  p_df['Key Skills'] = p_df['Key Skills'].str.lower()\n"
     ]
    }
   ],
   "source": [
    "p_df['Key Skills'] = p_df['Key Skills'].str.lower()\n",
    "p_df = p_df[p_df['Key Skills'].str.contains('python') | p_df['Key Skills'].str.contains('pandas')]\n",
    "p_df.rename(columns={'Job Experience Required': 'Experience'}, inplace=True)\n",
    "p_df.dropna(inplace=True)"
   ]
  },
  {
   "cell_type": "markdown",
   "metadata": {},
   "source": [
    "## Experience range"
   ]
  },
  {
   "cell_type": "code",
   "execution_count": 62,
   "metadata": {},
   "outputs": [],
   "source": [
    "lowers=[]\n",
    "highers =[]\n",
    "for idx, row in p_df[['Experience']].iterrows():\n",
    "    s = row['Experience']\n",
    "    delimiter = ''\n",
    "    s = s.replace(' ','')\n",
    "    s = s.replace('yrs','' )\n",
    "    s = s.replace('Years','')\n",
    "    if  ',' in s:\n",
    "        delimiter = ','\n",
    "    elif '-' in s:\n",
    "        delimiter = '-'\n",
    "    if delimiter:\n",
    "        lower, higher = s.split(delimiter)\n",
    "    else:\n",
    "        lower = s\n",
    "        higher = 99\n",
    "    lowers.append(int(lower))\n",
    "    highers.append(int(higher))\n",
    "    \n",
    "p_df['exp_lower'] = lowers\n",
    "p_df['exp_higher'] = highers"
   ]
  },
  {
   "cell_type": "code",
   "execution_count": 69,
   "metadata": {},
   "outputs": [],
   "source": [
    "p_df.sort_values(by=['exp_higher','exp_lower'] , ascending=False)\n",
    "loc_df = p_df.groupby(by=['Location'] ).count()"
   ]
  },
  {
   "cell_type": "code",
   "execution_count": 66,
   "metadata": {},
   "outputs": [
    {
     "name": "stdout",
     "output_type": "stream",
     "text": [
      "<class 'pandas.core.frame.DataFrame'>\n",
      "Int64Index: 1173 entries, 38 to 29992\n",
      "Data columns (total 13 columns):\n",
      " #   Column           Non-Null Count  Dtype \n",
      "---  ------           --------------  ----- \n",
      " 0   Uniq Id          1173 non-null   object\n",
      " 1   Crawl Timestamp  1173 non-null   object\n",
      " 2   Job Title        1173 non-null   object\n",
      " 3   Job Salary       1173 non-null   object\n",
      " 4   Experience       1173 non-null   object\n",
      " 5   Key Skills       1173 non-null   object\n",
      " 6   Role Category    1173 non-null   object\n",
      " 7   Location         1173 non-null   object\n",
      " 8   Functional Area  1173 non-null   object\n",
      " 9   Industry         1173 non-null   object\n",
      " 10  Role             1173 non-null   object\n",
      " 11  exp_lower        1173 non-null   int64 \n",
      " 12  exp_higher       1173 non-null   int64 \n",
      "dtypes: int64(2), object(11)\n",
      "memory usage: 128.3+ KB\n"
     ]
    }
   ],
   "source": [
    "p_df.info()"
   ]
  },
  {
   "cell_type": "markdown",
   "metadata": {},
   "source": [
    "## Plot using seaborn"
   ]
  },
  {
   "cell_type": "code",
   "execution_count": 85,
   "metadata": {},
   "outputs": [],
   "source": [
    "import matplotlib.pyplot as plt\n",
    "import seaborn as snb\n",
    "top_10_df = loc_df.sort_values(by='Location', ascending=False).iloc[:10,:]"
   ]
  },
  {
   "cell_type": "code",
   "execution_count": 90,
   "metadata": {},
   "outputs": [
    {
     "data": {
      "text/html": [
       "<div>\n",
       "<style scoped>\n",
       "    .dataframe tbody tr th:only-of-type {\n",
       "        vertical-align: middle;\n",
       "    }\n",
       "\n",
       "    .dataframe tbody tr th {\n",
       "        vertical-align: top;\n",
       "    }\n",
       "\n",
       "    .dataframe thead th {\n",
       "        text-align: right;\n",
       "    }\n",
       "</style>\n",
       "<table border=\"1\" class=\"dataframe\">\n",
       "  <thead>\n",
       "    <tr style=\"text-align: right;\">\n",
       "      <th></th>\n",
       "      <th>Uniq Id</th>\n",
       "      <th>Crawl Timestamp</th>\n",
       "      <th>Job Title</th>\n",
       "      <th>Job Salary</th>\n",
       "      <th>Experience</th>\n",
       "      <th>Key Skills</th>\n",
       "      <th>Role Category</th>\n",
       "      <th>Functional Area</th>\n",
       "      <th>Industry</th>\n",
       "      <th>Role</th>\n",
       "      <th>exp_lower</th>\n",
       "      <th>exp_higher</th>\n",
       "    </tr>\n",
       "    <tr>\n",
       "      <th>Location</th>\n",
       "      <th></th>\n",
       "      <th></th>\n",
       "      <th></th>\n",
       "      <th></th>\n",
       "      <th></th>\n",
       "      <th></th>\n",
       "      <th></th>\n",
       "      <th></th>\n",
       "      <th></th>\n",
       "      <th></th>\n",
       "      <th></th>\n",
       "      <th></th>\n",
       "    </tr>\n",
       "  </thead>\n",
       "  <tbody>\n",
       "    <tr>\n",
       "      <th>Thane</th>\n",
       "      <td>1</td>\n",
       "      <td>1</td>\n",
       "      <td>1</td>\n",
       "      <td>1</td>\n",
       "      <td>1</td>\n",
       "      <td>1</td>\n",
       "      <td>1</td>\n",
       "      <td>1</td>\n",
       "      <td>1</td>\n",
       "      <td>1</td>\n",
       "      <td>1</td>\n",
       "      <td>1</td>\n",
       "    </tr>\n",
       "    <tr>\n",
       "      <th>Pune,India</th>\n",
       "      <td>1</td>\n",
       "      <td>1</td>\n",
       "      <td>1</td>\n",
       "      <td>1</td>\n",
       "      <td>1</td>\n",
       "      <td>1</td>\n",
       "      <td>1</td>\n",
       "      <td>1</td>\n",
       "      <td>1</td>\n",
       "      <td>1</td>\n",
       "      <td>1</td>\n",
       "      <td>1</td>\n",
       "    </tr>\n",
       "    <tr>\n",
       "      <th>Pune (Shiva Nagar)</th>\n",
       "      <td>1</td>\n",
       "      <td>1</td>\n",
       "      <td>1</td>\n",
       "      <td>1</td>\n",
       "      <td>1</td>\n",
       "      <td>1</td>\n",
       "      <td>1</td>\n",
       "      <td>1</td>\n",
       "      <td>1</td>\n",
       "      <td>1</td>\n",
       "      <td>1</td>\n",
       "      <td>1</td>\n",
       "    </tr>\n",
       "    <tr>\n",
       "      <th>Pune</th>\n",
       "      <td>123</td>\n",
       "      <td>123</td>\n",
       "      <td>123</td>\n",
       "      <td>123</td>\n",
       "      <td>123</td>\n",
       "      <td>123</td>\n",
       "      <td>123</td>\n",
       "      <td>123</td>\n",
       "      <td>123</td>\n",
       "      <td>123</td>\n",
       "      <td>123</td>\n",
       "      <td>123</td>\n",
       "    </tr>\n",
       "    <tr>\n",
       "      <th>Noida,Noida/Greater Noida</th>\n",
       "      <td>1</td>\n",
       "      <td>1</td>\n",
       "      <td>1</td>\n",
       "      <td>1</td>\n",
       "      <td>1</td>\n",
       "      <td>1</td>\n",
       "      <td>1</td>\n",
       "      <td>1</td>\n",
       "      <td>1</td>\n",
       "      <td>1</td>\n",
       "      <td>1</td>\n",
       "      <td>1</td>\n",
       "    </tr>\n",
       "    <tr>\n",
       "      <th>Noida,Lucknow</th>\n",
       "      <td>1</td>\n",
       "      <td>1</td>\n",
       "      <td>1</td>\n",
       "      <td>1</td>\n",
       "      <td>1</td>\n",
       "      <td>1</td>\n",
       "      <td>1</td>\n",
       "      <td>1</td>\n",
       "      <td>1</td>\n",
       "      <td>1</td>\n",
       "      <td>1</td>\n",
       "      <td>1</td>\n",
       "    </tr>\n",
       "    <tr>\n",
       "      <th>Noida,Gurgaon</th>\n",
       "      <td>1</td>\n",
       "      <td>1</td>\n",
       "      <td>1</td>\n",
       "      <td>1</td>\n",
       "      <td>1</td>\n",
       "      <td>1</td>\n",
       "      <td>1</td>\n",
       "      <td>1</td>\n",
       "      <td>1</td>\n",
       "      <td>1</td>\n",
       "      <td>1</td>\n",
       "      <td>1</td>\n",
       "    </tr>\n",
       "    <tr>\n",
       "      <th>Noida,Bengaluru,Hyderabad</th>\n",
       "      <td>1</td>\n",
       "      <td>1</td>\n",
       "      <td>1</td>\n",
       "      <td>1</td>\n",
       "      <td>1</td>\n",
       "      <td>1</td>\n",
       "      <td>1</td>\n",
       "      <td>1</td>\n",
       "      <td>1</td>\n",
       "      <td>1</td>\n",
       "      <td>1</td>\n",
       "      <td>1</td>\n",
       "    </tr>\n",
       "    <tr>\n",
       "      <th>Noida (Sector-62 Noida)</th>\n",
       "      <td>1</td>\n",
       "      <td>1</td>\n",
       "      <td>1</td>\n",
       "      <td>1</td>\n",
       "      <td>1</td>\n",
       "      <td>1</td>\n",
       "      <td>1</td>\n",
       "      <td>1</td>\n",
       "      <td>1</td>\n",
       "      <td>1</td>\n",
       "      <td>1</td>\n",
       "      <td>1</td>\n",
       "    </tr>\n",
       "    <tr>\n",
       "      <th>Noida</th>\n",
       "      <td>46</td>\n",
       "      <td>46</td>\n",
       "      <td>46</td>\n",
       "      <td>46</td>\n",
       "      <td>46</td>\n",
       "      <td>46</td>\n",
       "      <td>46</td>\n",
       "      <td>46</td>\n",
       "      <td>46</td>\n",
       "      <td>46</td>\n",
       "      <td>46</td>\n",
       "      <td>46</td>\n",
       "    </tr>\n",
       "  </tbody>\n",
       "</table>\n",
       "</div>"
      ],
      "text/plain": [
       "                           Uniq Id  Crawl Timestamp  Job Title  Job Salary  \\\n",
       "Location                                                                     \n",
       "Thane                            1                1          1           1   \n",
       "Pune,India                       1                1          1           1   \n",
       "Pune (Shiva Nagar)               1                1          1           1   \n",
       "Pune                           123              123        123         123   \n",
       "Noida,Noida/Greater Noida        1                1          1           1   \n",
       "Noida,Lucknow                    1                1          1           1   \n",
       "Noida,Gurgaon                    1                1          1           1   \n",
       "Noida,Bengaluru,Hyderabad        1                1          1           1   \n",
       "Noida (Sector-62 Noida)          1                1          1           1   \n",
       "Noida                           46               46         46          46   \n",
       "\n",
       "                           Experience  Key Skills  Role Category  \\\n",
       "Location                                                           \n",
       "Thane                               1           1              1   \n",
       "Pune,India                          1           1              1   \n",
       "Pune (Shiva Nagar)                  1           1              1   \n",
       "Pune                              123         123            123   \n",
       "Noida,Noida/Greater Noida           1           1              1   \n",
       "Noida,Lucknow                       1           1              1   \n",
       "Noida,Gurgaon                       1           1              1   \n",
       "Noida,Bengaluru,Hyderabad           1           1              1   \n",
       "Noida (Sector-62 Noida)             1           1              1   \n",
       "Noida                              46          46             46   \n",
       "\n",
       "                           Functional Area  Industry  Role  exp_lower  \\\n",
       "Location                                                                \n",
       "Thane                                    1         1     1          1   \n",
       "Pune,India                               1         1     1          1   \n",
       "Pune (Shiva Nagar)                       1         1     1          1   \n",
       "Pune                                   123       123   123        123   \n",
       "Noida,Noida/Greater Noida                1         1     1          1   \n",
       "Noida,Lucknow                            1         1     1          1   \n",
       "Noida,Gurgaon                            1         1     1          1   \n",
       "Noida,Bengaluru,Hyderabad                1         1     1          1   \n",
       "Noida (Sector-62 Noida)                  1         1     1          1   \n",
       "Noida                                   46        46    46         46   \n",
       "\n",
       "                           exp_higher  \n",
       "Location                               \n",
       "Thane                               1  \n",
       "Pune,India                          1  \n",
       "Pune (Shiva Nagar)                  1  \n",
       "Pune                              123  \n",
       "Noida,Noida/Greater Noida           1  \n",
       "Noida,Lucknow                       1  \n",
       "Noida,Gurgaon                       1  \n",
       "Noida,Bengaluru,Hyderabad           1  \n",
       "Noida (Sector-62 Noida)             1  \n",
       "Noida                              46  "
      ]
     },
     "execution_count": 90,
     "metadata": {},
     "output_type": "execute_result"
    }
   ],
   "source": [
    "top_10_df"
   ]
  },
  {
   "cell_type": "code",
   "execution_count": 95,
   "metadata": {},
   "outputs": [
    {
     "data": {
      "text/plain": [
       "<matplotlib.axes._subplots.AxesSubplot at 0x7fad12e91d30>"
      ]
     },
     "execution_count": 95,
     "metadata": {},
     "output_type": "execute_result"
    },
    {
     "data": {
      "image/png": "[encoded data removed]",
      "text/plain": [
       "<Figure size 432x288 with 1 Axes>"
      ]
     },
     "metadata": {
      "needs_background": "light"
     },
     "output_type": "display_data"
    }
   ],
   "source": [
    "top_10_df[['Role']].plot(kind='barh')"
   ]
  },
  {
   "cell_type": "code",
   "execution_count": 100,
   "metadata": {},
   "outputs": [
    {
     "data": {
      "text/plain": [
       "<matplotlib.axes._subplots.AxesSubplot at 0x7fad12d05940>"
      ]
     },
     "execution_count": 100,
     "metadata": {},
     "output_type": "execute_result"
    },
    {
     "data": {
      "image/png": "[encoded data removed]",
      "text/plain": [
       "<Figure size 432x288 with 1 Axes>"
      ]
     },
     "metadata": {
      "needs_background": "light"
     },
     "output_type": "display_data"
    }
   ],
   "source": [
    "snb.countplot(y=loc_df['Role'])"
   ]
  },
  {
   "cell_type": "code",
   "execution_count": null,
   "metadata": {},
   "outputs": [],
   "source": []
  }
 ],
 "metadata": {
  "kernelspec": {
   "display_name": "Python 3",
   "language": "python",
   "name": "python3"
  },
  "language_info": {
   "codemirror_mode": {
    "name": "ipython",
    "version": 3
   },
   "file_extension": ".py",
   "mimetype": "text/x-python",
   "name": "python",
   "nbconvert_exporter": "python",
   "pygments_lexer": "ipython3",
   "version": "3.8.3"
  }
 },
 "nbformat": 4,
 "nbformat_minor": 4
}
